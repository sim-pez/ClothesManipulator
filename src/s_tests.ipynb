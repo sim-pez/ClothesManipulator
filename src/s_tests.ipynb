{
 "cells": [
  {
   "cell_type": "code",
   "execution_count": 7,
   "metadata": {},
   "outputs": [],
   "source": [
    "from dataloader import Data\n",
    "import torchvision.transforms as transforms\n",
    "import constants as C\n",
    "from utils import split_labels\n",
    "import numpy as np\n",
    "\n",
    "mode = 'test'\n",
    "\n",
    "file_root = '../splits/Shopping100k'\n",
    "img_root_path = '/Users/simone/Desktop/VMR/Dataset/Shopping100k/Images'\n",
    "\n",
    "if mode == 'train':\n",
    "        data = Data(file_root,  img_root_path, \n",
    "                          transforms.Compose([\n",
    "                              transforms.Resize((C.TRAIN_INIT_IMAGE_SIZE, C.TRAIN_INIT_IMAGE_SIZE)),\n",
    "                              transforms.RandomHorizontalFlip(),\n",
    "                              transforms.CenterCrop(C.TARGET_IMAGE_SIZE),\n",
    "                              transforms.ToTensor(),\n",
    "                              transforms.Normalize(mean=C.IMAGE_MEAN, std=C.IMAGE_STD)\n",
    "                          ]), 'train')\n",
    "elif mode == 'test':\n",
    "    data = Data(file_root,  img_root_path,\n",
    "                  transforms.Compose([\n",
    "                      transforms.Resize((C.TARGET_IMAGE_SIZE, C.TARGET_IMAGE_SIZE)),\n",
    "                      transforms.ToTensor(),\n",
    "                      transforms.Normalize(mean=C.IMAGE_MEAN, std=C.IMAGE_STD)\n",
    "                  ]), 'test')\n",
    "\n",
    "attr_num = data.attr_num\n",
    "labels = data.label_data\n",
    "\n",
    "splitted_labels = [split_labels(lbl, attr_num) for lbl in labels]"
   ]
  },
  {
   "cell_type": "code",
   "execution_count": 36,
   "metadata": {},
   "outputs": [
    {
     "name": "stdout",
     "output_type": "stream",
     "text": [
      "done 0 out of 500000 \n",
      "done 1000 out of 500000 \n",
      "done 2000 out of 500000 \n",
      "done 3000 out of 500000 \n",
      "done 4000 out of 500000 \n",
      "done 5000 out of 500000 \n",
      "done 6000 out of 500000 \n",
      "done 7000 out of 500000 \n",
      "done 8000 out of 500000 \n",
      "done 9000 out of 500000 \n",
      "done 10000 out of 500000 \n",
      "done 11000 out of 500000 \n",
      "done 12000 out of 500000 \n",
      "done 13000 out of 500000 \n",
      "done 14000 out of 500000 \n",
      "done 15000 out of 500000 \n",
      "done 16000 out of 500000 \n",
      "done 17000 out of 500000 \n",
      "done 18000 out of 500000 \n",
      "done 19000 out of 500000 \n",
      "done 20000 out of 500000 \n",
      "done 21000 out of 500000 \n",
      "done 22000 out of 500000 \n",
      "done 23000 out of 500000 \n",
      "done 24000 out of 500000 \n",
      "done 25000 out of 500000 \n",
      "done 26000 out of 500000 \n",
      "done 27000 out of 500000 \n",
      "done 28000 out of 500000 \n",
      "done 29000 out of 500000 \n",
      "done 30000 out of 500000 \n",
      "done 31000 out of 500000 \n",
      "done 32000 out of 500000 \n",
      "done 33000 out of 500000 \n",
      "done 34000 out of 500000 \n",
      "done 35000 out of 500000 \n",
      "done 36000 out of 500000 \n",
      "done 37000 out of 500000 \n",
      "done 38000 out of 500000 \n",
      "done 39000 out of 500000 \n",
      "done 40000 out of 500000 \n",
      "done 41000 out of 500000 \n",
      "done 42000 out of 500000 \n",
      "done 43000 out of 500000 \n",
      "done 44000 out of 500000 \n",
      "done 45000 out of 500000 \n",
      "done 46000 out of 500000 \n",
      "done 47000 out of 500000 \n",
      "done 48000 out of 500000 \n",
      "done 49000 out of 500000 \n",
      "done 50000 out of 500000 \n",
      "done 51000 out of 500000 \n",
      "done 52000 out of 500000 \n",
      "done 53000 out of 500000 \n",
      "done 54000 out of 500000 \n",
      "done 55000 out of 500000 \n",
      "done 56000 out of 500000 \n",
      "done 57000 out of 500000 \n",
      "done 58000 out of 500000 \n",
      "done 59000 out of 500000 \n",
      "done 60000 out of 500000 \n",
      "done 61000 out of 500000 \n",
      "done 62000 out of 500000 \n",
      "done 63000 out of 500000 \n",
      "done 64000 out of 500000 \n",
      "done 65000 out of 500000 \n",
      "done 66000 out of 500000 \n",
      "done 67000 out of 500000 \n",
      "done 68000 out of 500000 \n",
      "done 69000 out of 500000 \n",
      "done 70000 out of 500000 \n",
      "done 71000 out of 500000 \n",
      "done 72000 out of 500000 \n",
      "done 73000 out of 500000 \n",
      "done 74000 out of 500000 \n",
      "done 75000 out of 500000 \n",
      "done 76000 out of 500000 \n",
      "done 77000 out of 500000 \n",
      "done 78000 out of 500000 \n",
      "done 79000 out of 500000 \n",
      "done 80000 out of 500000 \n",
      "done 81000 out of 500000 \n",
      "done 82000 out of 500000 \n",
      "done 83000 out of 500000 \n",
      "done 84000 out of 500000 \n"
     ]
    },
    {
     "ename": "KeyboardInterrupt",
     "evalue": "",
     "output_type": "error",
     "traceback": [
      "\u001b[0;31m---------------------------------------------------------------------------\u001b[0m",
      "\u001b[0;31mKeyboardInterrupt\u001b[0m                         Traceback (most recent call last)",
      "\u001b[0;32m/tmp/ipykernel_7546/97011411.py\u001b[0m in \u001b[0;36m<module>\u001b[0;34m\u001b[0m\n\u001b[1;32m     37\u001b[0m     \u001b[0mmanips\u001b[0m \u001b[0;34m=\u001b[0m \u001b[0mcreate_n_manip\u001b[0m\u001b[0;34m(\u001b[0m\u001b[0mN\u001b[0m\u001b[0;34m,\u001b[0m \u001b[0mq_lbl\u001b[0m\u001b[0;34m,\u001b[0m \u001b[0mt_lbl\u001b[0m\u001b[0;34m)\u001b[0m\u001b[0;34m\u001b[0m\u001b[0;34m\u001b[0m\u001b[0m\n\u001b[1;32m     38\u001b[0m \u001b[0;34m\u001b[0m\u001b[0m\n\u001b[0;32m---> 39\u001b[0;31m     \u001b[0;32mif\u001b[0m \u001b[0;32mnot\u001b[0m \u001b[0mcheckmanip\u001b[0m\u001b[0;34m(\u001b[0m\u001b[0mq_lbl\u001b[0m\u001b[0;34m,\u001b[0m \u001b[0mt_lbl\u001b[0m\u001b[0;34m,\u001b[0m \u001b[0mmanips\u001b[0m\u001b[0;34m)\u001b[0m\u001b[0;34m:\u001b[0m\u001b[0;34m\u001b[0m\u001b[0;34m\u001b[0m\u001b[0m\n\u001b[0m\u001b[1;32m     40\u001b[0m         \u001b[0mprint\u001b[0m\u001b[0;34m(\u001b[0m\u001b[0mq_id\u001b[0m\u001b[0;34m,\u001b[0m \u001b[0mt_id\u001b[0m\u001b[0;34m)\u001b[0m\u001b[0;34m\u001b[0m\u001b[0;34m\u001b[0m\u001b[0m\n\u001b[1;32m     41\u001b[0m         \u001b[0;32massert\u001b[0m \u001b[0;36m1\u001b[0m \u001b[0;34m==\u001b[0m \u001b[0;36m2\u001b[0m\u001b[0;34m\u001b[0m\u001b[0;34m\u001b[0m\u001b[0m\n",
      "\u001b[0;32m/tmp/ipykernel_7546/97011411.py\u001b[0m in \u001b[0;36mcheckmanip\u001b[0;34m(q_lbl, t_lbl, manip_list)\u001b[0m\n\u001b[1;32m     14\u001b[0m        \u001b[0mactual_splitted\u001b[0m \u001b[0;34m=\u001b[0m \u001b[0msplit_labels\u001b[0m\u001b[0;34m(\u001b[0m\u001b[0mactual\u001b[0m\u001b[0;34m,\u001b[0m \u001b[0mattr_num\u001b[0m\u001b[0;34m)\u001b[0m\u001b[0;34m\u001b[0m\u001b[0;34m\u001b[0m\u001b[0m\n\u001b[1;32m     15\u001b[0m        \u001b[0;32mfor\u001b[0m \u001b[0mact\u001b[0m \u001b[0;32min\u001b[0m \u001b[0mactual_splitted\u001b[0m\u001b[0;34m:\u001b[0m\u001b[0;34m\u001b[0m\u001b[0;34m\u001b[0m\u001b[0m\n\u001b[0;32m---> 16\u001b[0;31m             \u001b[0;32mif\u001b[0m \u001b[0mnp\u001b[0m\u001b[0;34m.\u001b[0m\u001b[0mcount_nonzero\u001b[0m\u001b[0;34m(\u001b[0m\u001b[0;34m(\u001b[0m\u001b[0mact\u001b[0m \u001b[0;34m==\u001b[0m \u001b[0;36m1\u001b[0m\u001b[0;34m)\u001b[0m \u001b[0;34m|\u001b[0m \u001b[0;34m(\u001b[0m\u001b[0mact\u001b[0m \u001b[0;34m==\u001b[0m \u001b[0;36m0\u001b[0m\u001b[0;34m)\u001b[0m\u001b[0;34m)\u001b[0m \u001b[0;34m!=\u001b[0m \u001b[0mact\u001b[0m\u001b[0;34m.\u001b[0m\u001b[0msize\u001b[0m\u001b[0;34m:\u001b[0m\u001b[0;34m\u001b[0m\u001b[0;34m\u001b[0m\u001b[0m\n\u001b[0m\u001b[1;32m     17\u001b[0m                 \u001b[0mprint\u001b[0m\u001b[0;34m(\u001b[0m\u001b[0;34m\"there are numbers different from 0 or 1!!\"\u001b[0m\u001b[0;34m)\u001b[0m\u001b[0;34m\u001b[0m\u001b[0;34m\u001b[0m\u001b[0m\n\u001b[1;32m     18\u001b[0m                 \u001b[0mprint\u001b[0m\u001b[0;34m(\u001b[0m\u001b[0mact\u001b[0m\u001b[0;34m)\u001b[0m\u001b[0;34m\u001b[0m\u001b[0;34m\u001b[0m\u001b[0m\n",
      "\u001b[0;32m<__array_function__ internals>\u001b[0m in \u001b[0;36mcount_nonzero\u001b[0;34m(*args, **kwargs)\u001b[0m\n",
      "\u001b[0;31mKeyboardInterrupt\u001b[0m: "
     ]
    }
   ],
   "source": [
    "from pprint import pprint\n",
    "from tqdm import tqdm\n",
    "import h5py\n",
    "import numpy as np\n",
    "from f_utils import create_n_manip\n",
    "\n",
    "N = 8\n",
    "\n",
    "def checkmanip(q_lbl, t_lbl, manip_list):\n",
    "\n",
    "    actual = q_lbl\n",
    "    for manip in manip_list:\n",
    "       actual = np.add(actual, manip)\n",
    "       actual_splitted = split_labels(actual, attr_num)\n",
    "       for act in actual_splitted:\n",
    "            if np.count_nonzero((act == 1) | (act == 0)) != act.size:\n",
    "                print(\"there are numbers different from 0 or 1!!\")\n",
    "                print(act)\n",
    "                return False\n",
    "            if np.count_nonzero(act == 1) > 1:\n",
    "                print(\"there are more than one 1!!\")\n",
    "                print(act)\n",
    "                return False\n",
    "    #check if result is t\n",
    "    if not np.array_equal(actual, t_lbl):\n",
    "        print(\"target is not the same!!\")\n",
    "        return False\n",
    "    \n",
    "    return True\n",
    "\n",
    "hf = h5py.File(f'/home/falhamdoosh/disentagledFeaturesExtractor/multi_manip/{mode}/couples_N_{N}_small.h5', 'r')\n",
    "\n",
    "for i, (q_id, t_id) in enumerate(zip(hf['q'], hf['t'])):\n",
    "    q_lbl = labels[q_id]\n",
    "    t_lbl = labels[t_id]\n",
    "    #print(q_id, t_id)\n",
    "    manips = create_n_manip(N, q_lbl, t_lbl)\n",
    "\n",
    "    if not checkmanip(q_lbl, t_lbl, manips):\n",
    "        print(q_id, t_id)\n",
    "        assert 1 == 2 \n",
    "    if i % 1000 == 0:\n",
    "        print(f\"done {i} out of {len(hf['q'])} \")\n",
    "\n",
    "print('done')"
   ]
  },
  {
   "cell_type": "code",
   "execution_count": 10,
   "metadata": {},
   "outputs": [
    {
     "name": "stdout",
     "output_type": "stream",
     "text": [
      "14361\n"
     ]
    }
   ],
   "source": [
    "import h5py \n",
    "\n",
    "\n",
    "hf1 = h5py.File(f'/andromeda/shared/reco-pomigliano/fashion/disentagledFeaturesExtractor/multi_manip/{mode}/couples_N_1_amazon.h5', 'r')\n",
    "hf4 = h5py.File(f'/andromeda/shared/reco-pomigliano/fashion/disentagledFeaturesExtractor/multi_manip/{mode}/couples_N_4_small.h5', 'r')\n",
    "hf6 = h5py.File(f'/andromeda/shared/reco-pomigliano/fashion/disentagledFeaturesExtractor/multi_manip/{mode}/couples_N_6_small.h5', 'r')\n",
    "hf8 = h5py.File(f'/andromeda/shared/reco-pomigliano/fashion/disentagledFeaturesExtractor/multi_manip/{mode}/couples_N_8_small.h5', 'r')\n",
    "\n",
    "sources = [hf4,hf6,hf8]\n",
    "\n",
    "hfmixed = h5py.File(f'/andromeda/shared/reco-pomigliano/fashion/disentagledFeaturesExtractor/multi_manip/{mode}/couples_N_1_4_6_8_mixed.h5', 'w')\n",
    "\n",
    "q = np.array(hf1['q'])\n",
    "t = np.array(hf1['t'])\n",
    "\n",
    "print(len(q))\n",
    "\n",
    "\n",
    "for s in sources:\n",
    "    q = np.concatenate([q, s['q'][0:14361]])\n",
    "    t = np.concatenate([t, s['t'][0:14361]])\n",
    "\n",
    "hfmixed.create_dataset('q', data=np.array(q))\n",
    "hfmixed.create_dataset('t', data=np.array(t))\n",
    "\n",
    "hf1.close()\n",
    "hf4.close()\n",
    "hf6.close()\n",
    "hf8.close()\n",
    "hfmixed.close()\n",
    "\n"
   ]
  },
  {
   "cell_type": "code",
   "execution_count": 6,
   "metadata": {},
   "outputs": [
    {
     "name": "stdout",
     "output_type": "stream",
     "text": [
      "481484\n",
      "481484\n"
     ]
    }
   ],
   "source": [
    "hfmixed = h5py.File(f'/andromeda/shared/reco-pomigliano/fashion/disentagledFeaturesExtractor/multi_manip/{mode}/couples_N_1_4_6_8_mixed.h5', 'r')\n",
    "\n",
    "print(len(hfmixed['q']))\n",
    "print(len(hfmixed['t']))\n",
    "\n",
    "\n",
    "hfmixed.close()\n"
   ]
  },
  {
   "cell_type": "code",
   "execution_count": 41,
   "metadata": {},
   "outputs": [
    {
     "name": "stdout",
     "output_type": "stream",
     "text": [
      "distance is -1\n"
     ]
    },
    {
     "ename": "Exception",
     "evalue": "distance value not accepted",
     "output_type": "error",
     "traceback": [
      "\u001b[0;31m---------------------------------------------------------------------------\u001b[0m",
      "\u001b[0;31mException\u001b[0m                                 Traceback (most recent call last)",
      "\u001b[0;32m/tmp/ipykernel_7546/3160636929.py\u001b[0m in \u001b[0;36m<module>\u001b[0;34m\u001b[0m\n\u001b[1;32m      1\u001b[0m \u001b[0;32mfrom\u001b[0m \u001b[0mf_utils\u001b[0m \u001b[0;32mimport\u001b[0m \u001b[0mcreate_n_manip\u001b[0m\u001b[0;34m\u001b[0m\u001b[0;34m\u001b[0m\u001b[0m\n\u001b[1;32m      2\u001b[0m \u001b[0;34m\u001b[0m\u001b[0m\n\u001b[0;32m----> 3\u001b[0;31m \u001b[0mnp\u001b[0m\u001b[0;34m.\u001b[0m\u001b[0mshape\u001b[0m\u001b[0;34m(\u001b[0m\u001b[0mcreate_n_manip\u001b[0m\u001b[0;34m(\u001b[0m\u001b[0;36m8\u001b[0m\u001b[0;34m,\u001b[0m \u001b[0mlabels\u001b[0m\u001b[0;34m[\u001b[0m\u001b[0;36m0\u001b[0m\u001b[0;34m]\u001b[0m\u001b[0;34m,\u001b[0m \u001b[0mlabels\u001b[0m\u001b[0;34m[\u001b[0m\u001b[0;36m10\u001b[0m\u001b[0;34m]\u001b[0m\u001b[0;34m)\u001b[0m\u001b[0;34m)\u001b[0m\u001b[0;34m\u001b[0m\u001b[0;34m\u001b[0m\u001b[0m\n\u001b[0m",
      "\u001b[0;32m/andromeda/shared/reco-pomigliano/fashion/disentagledFeaturesExtractor/src/f_utils.py\u001b[0m in \u001b[0;36mcreate_n_manip\u001b[0;34m(N, q_lbl, t_lbl)\u001b[0m\n\u001b[1;32m    254\u001b[0m             \u001b[0mprint\u001b[0m\u001b[0;34m(\u001b[0m\u001b[0;34mf\"original distance for labels is {original_distance}!\"\u001b[0m\u001b[0;34m)\u001b[0m\u001b[0;34m\u001b[0m\u001b[0;34m\u001b[0m\u001b[0m\n\u001b[1;32m    255\u001b[0m             \u001b[0;32mraise\u001b[0m \u001b[0mException\u001b[0m\u001b[0;34m(\u001b[0m\u001b[0;34m\"distance value not accepted\"\u001b[0m\u001b[0;34m)\u001b[0m\u001b[0;34m\u001b[0m\u001b[0;34m\u001b[0m\u001b[0m\n\u001b[0;32m--> 256\u001b[0;31m \u001b[0;34m\u001b[0m\u001b[0m\n\u001b[0m\u001b[1;32m    257\u001b[0m         \u001b[0;32massert\u001b[0m \u001b[0mN\u001b[0m \u001b[0;34m-\u001b[0m \u001b[0mremaining\u001b[0m \u001b[0;34m==\u001b[0m \u001b[0mlen\u001b[0m\u001b[0;34m(\u001b[0m\u001b[0mmanip_list\u001b[0m\u001b[0;34m)\u001b[0m\u001b[0;34m\u001b[0m\u001b[0;34m\u001b[0m\u001b[0m\n\u001b[1;32m    258\u001b[0m \u001b[0;34m\u001b[0m\u001b[0m\n",
      "\u001b[0;31mException\u001b[0m: distance value not accepted"
     ]
    }
   ],
   "source": [
    "from f_utils import create_n_manip\n",
    "\n",
    "np.shape(create_n_manip(8, labels[0], labels[10]))"
   ]
  }
 ],
 "metadata": {
  "kernelspec": {
   "display_name": "Python 3.7.13 ('adde-m': conda)",
   "language": "python",
   "name": "python3"
  },
  "language_info": {
   "codemirror_mode": {
    "name": "ipython",
    "version": 3
   },
   "file_extension": ".py",
   "mimetype": "text/x-python",
   "name": "python",
   "nbconvert_exporter": "python",
   "pygments_lexer": "ipython3",
   "version": "3.7.13"
  },
  "orig_nbformat": 4,
  "vscode": {
   "interpreter": {
    "hash": "7f89d0e194b439387b5e186bf81e2159fc102e5b3337f084ca54f84cec4c12f6"
   }
  }
 },
 "nbformat": 4,
 "nbformat_minor": 2
}
