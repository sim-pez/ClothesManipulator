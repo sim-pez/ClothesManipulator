{
 "cells": [
  {
   "cell_type": "code",
   "execution_count": 8,
   "metadata": {},
   "outputs": [],
   "source": [
    "import os\n",
    "import numpy as np\n",
    "import torch\n",
    "import h5py\n",
    "from f_model import LSTM_ManyToOne\n",
    "from f_utils import calc_accuracy,eval_help,eval_variable_help\n",
    "from f_dataloader import Data_Query\n",
    "import parameters as par\n"
   ]
  }
 ],
 "metadata": {
  "kernelspec": {
   "display_name": "Python 3.7.13 ('adde-m': conda)",
   "language": "python",
   "name": "python3"
  },
  "language_info": {
   "codemirror_mode": {
    "name": "ipython",
    "version": 3
   },
   "file_extension": ".py",
   "mimetype": "text/x-python",
   "name": "python",
   "nbconvert_exporter": "python",
   "pygments_lexer": "ipython3",
   "version": "3.7.13 (default, Mar 29 2022, 02:18:16) \n[GCC 7.5.0]"
  },
  "orig_nbformat": 4,
  "vscode": {
   "interpreter": {
    "hash": "7f89d0e194b439387b5e186bf81e2159fc102e5b3337f084ca54f84cec4c12f6"
   }
  }
 },
 "nbformat": 4,
 "nbformat_minor": 2
}
