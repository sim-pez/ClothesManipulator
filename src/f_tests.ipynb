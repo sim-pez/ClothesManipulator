{
 "cells": [
  {
   "cell_type": "code",
   "execution_count": 8,
   "metadata": {},
   "outputs": [],
   "source": [
    "import numpy as np\n",
    "import torch \n",
    "import h5py as h"
   ]
  },
  {
   "cell_type": "code",
   "execution_count": 9,
   "metadata": {},
   "outputs": [],
   "source": [
    "file_triplet=np.loadtxt(\"/home/falhamdoosh/disentagledFeaturesExtractor/splits/Shopping100k/ref_test.txt\",dtype=int)"
   ]
  },
  {
   "cell_type": "code",
   "execution_count": 10,
   "metadata": {},
   "outputs": [
    {
     "data": {
      "text/plain": [
       "(14361,)"
      ]
     },
     "execution_count": 10,
     "metadata": {},
     "output_type": "execute_result"
    }
   ],
   "source": [
    "file_triplet.shape\n"
   ]
  },
  {
   "cell_type": "code",
   "execution_count": 11,
   "metadata": {},
   "outputs": [
    {
     "data": {
      "text/plain": [
       "(14361, 151)"
      ]
     },
     "execution_count": 11,
     "metadata": {},
     "output_type": "execute_result"
    }
   ],
   "source": [
    "manips_vec=np.loadtxt(\"/home/falhamdoosh/disentagledFeaturesExtractor/splits/Shopping100k/indfull_test.txt\",dtype=int)\n",
    "manips_vec.shape"
   ]
  },
  {
   "cell_type": "code",
   "execution_count": 12,
   "metadata": {},
   "outputs": [
    {
     "data": {
      "text/plain": [
       "(14361, 151)"
      ]
     },
     "execution_count": 12,
     "metadata": {},
     "output_type": "execute_result"
    }
   ],
   "source": [
    "t_label=np.loadtxt(\"/home/falhamdoosh/disentagledFeaturesExtractor/splits/Shopping100k/gt_test.txt\",dtype=int)\n",
    "t_label.shape"
   ]
  },
  {
   "cell_type": "code",
   "execution_count": 13,
   "metadata": {},
   "outputs": [],
   "source": [
    "hf = h.File(f'/home/falhamdoosh/disentagledFeaturesExtractor/multi_manip/test/couples_N_1.h5', 'w')\n",
    "\n",
    "hf.create_dataset('q', data=file_triplet)\n",
    "hf.create_dataset('manips_vec', data=manips_vec)\n",
    "hf.create_dataset('t_label',data=t_label)\n",
    "hf.close()"
   ]
  }
 ],
 "metadata": {
  "kernelspec": {
   "display_name": "Python 3.7.13 ('adde-m': conda)",
   "language": "python",
   "name": "python3"
  },
  "language_info": {
   "codemirror_mode": {
    "name": "ipython",
    "version": 3
   },
   "file_extension": ".py",
   "mimetype": "text/x-python",
   "name": "python",
   "nbconvert_exporter": "python",
   "pygments_lexer": "ipython3",
   "version": "3.7.13"
  },
  "orig_nbformat": 4,
  "vscode": {
   "interpreter": {
    "hash": "7f89d0e194b439387b5e186bf81e2159fc102e5b3337f084ca54f84cec4c12f6"
   }
  }
 },
 "nbformat": 4,
 "nbformat_minor": 2
}
